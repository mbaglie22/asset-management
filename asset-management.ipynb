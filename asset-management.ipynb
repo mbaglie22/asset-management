{
 "cells": [
  {
   "cell_type": "markdown",
   "id": "30427cd9-7422-4de2-a3c5-c931d956c725",
   "metadata": {},
   "source": [
    "# Assignment 2021-2022, Question 1"
   ]
  },
  {
   "cell_type": "markdown",
   "id": "732f4581-38c2-4829-8946-f661b654a46c",
   "metadata": {},
   "source": [
    "### 2."
   ]
  },
  {
   "cell_type": "code",
   "execution_count": 2,
   "id": "b9755294-4072-4376-9df8-5d879fc6b604",
   "metadata": {},
   "outputs": [],
   "source": [
    "def get_ff30_returns():\n",
    "    \"\"\"\n",
    "    Load and format the Ken French 30 Industry Portfolios Value Weighted Monthly Returns\n",
    "    \"\"\"\n",
    "    ind = pd.read_csv(\"data/ind30_m_vw_rets.csv\", header=0, index_col=0)/100\n",
    "    ind.index = pd.to_datetime(ind.index, format=\"%Y%m\").to_period('M')\n",
    "    ind.columns = ind.columns.str.strip()\n",
    "    return ind"
   ]
  },
  {
   "cell_type": "markdown",
   "id": "84b1e7ab-dd77-47a2-9692-01cca6d41818",
   "metadata": {},
   "source": [
    "### 3. 4. Complete the defintion of the risk contribution function"
   ]
  },
  {
   "cell_type": "code",
   "execution_count": 2,
   "id": "7a84db35-b0ad-444e-b22c-851b974a7369",
   "metadata": {},
   "outputs": [],
   "source": [
    "def portfolio_vol(weights, covmat):\n",
    "    \"\"\"\n",
    "    Computes the vol of a portfolio from a covariance matrix and constituent weights\n",
    "    weights are a numpy array or N x 1 maxtrix and covmat is an N x N matrix\n",
    "    \"\"\"\n",
    "    vol = (weights.T @ covmat @ weights)**0.5\n",
    "    return vol \n",
    "\n",
    "def risk_contribution(w,cov):\n",
    "    \"\"\"\n",
    "Compute the contributions to risk of the constituents of a portfolio, given a set of portfolio weights and a covariance matrix\n",
    "    \"\"\"\n",
    "    total_portfolio_var = portfolio_vol(w,cov)**2\n",
    "    # QUESTION 3. Marginal contribution of each constituent\n",
    "    marginal_contrib = 'insert your answer'\n",
    "    # QUESTION 4. Risk contribution of the portfolio\n",
    "    risk_contrib = 'insert your answer'\n",
    "    return risk_contrib"
   ]
  },
  {
   "cell_type": "markdown",
   "id": "dab2a4af-761e-49d7-b298-560ad689dcd6",
   "metadata": {},
   "source": [
    "### 5."
   ]
  },
  {
   "cell_type": "code",
   "execution_count": 1,
   "id": "336342b6-09c6-426b-98bf-20801d1b57e2",
   "metadata": {},
   "outputs": [],
   "source": [
    "def weight_ew(r):\n",
    "    \"\"\"\n",
    "    Returns the weights of the EW portfolio based on the asset returns \"r\" as a DataFrame and the risk free rate \"rf\"\n",
    "    \"\"\"\n",
    "    n = len(r.columns)\n",
    "    return pd.Series(1/n, index=r.columns)"
   ]
  },
  {
   "cell_type": "markdown",
   "id": "7e3af7e9-6500-4566-b8fa-5736f31907a1",
   "metadata": {},
   "source": [
    "### 7."
   ]
  },
  {
   "cell_type": "code",
   "execution_count": 7,
   "id": "128bc087-ab3c-4ea9-85ac-7c1d5f2e6efc",
   "metadata": {},
   "outputs": [],
   "source": [
    "from scipy.optimize import minimize\n",
    "\n",
    "def target_risk_contributions(target_risk, cov):\n",
    "    \"\"\"\n",
    "    Returns the weights of the portfolio that gives you the weights such\n",
    "    that the contributions to portfolio risk are as close as possible to\n",
    "    the target_risk, given the covariance matrix\n",
    "    \"\"\"\n",
    "    n = cov.shape[0]\n",
    "    init_guess = np.repeat(1/n, n)\n",
    "    bounds = ((0.0, 1.0),) * n # an N-tuple of 2-tuples!\n",
    "    # construct the constraints\n",
    "    weights_sum_to_1 = {'type': 'eq',\n",
    "                        'fun': lambda weights: np.sum(weights) - 1\n",
    "    }\n",
    "    def msd_risk(weights, target_risk, cov):\n",
    "        \"\"\"\n",
    "        Returns the Mean Squared Difference in risk contributions\n",
    "        between weights and target_risk\n",
    "        \"\"\"\n",
    "        w_contribs = risk_contribution(weights, cov)\n",
    "        return ((w_contribs-target_risk)**2).sum()\n",
    "    \n",
    "    weights = minimize(msd_risk, init_guess,\n",
    "                       args=(target_risk, cov), method='SLSQP',\n",
    "                       options={'disp': False},\n",
    "                       constraints=(weights_sum_to_1,),\n",
    "                       bounds=bounds)\n",
    "    return weights.x\n",
    "\n",
    "def equal_risk_contributions(cov):\n",
    "    \"\"\"\n",
    "    Returns the weights of the portfolio that equalizes the contributions\n",
    "    of the constituents based on the given covariance matrix\n",
    "    \"\"\"\n",
    "    n = cov.shape[0]\n",
    "    return target_risk_contributions(target_risk=np.repeat(1/n,n), cov=covff30)"
   ]
  },
  {
   "cell_type": "markdown",
   "id": "5f73fd9c-1ad2-49fe-859f-44032ada6737",
   "metadata": {},
   "source": [
    "### 8."
   ]
  },
  {
   "cell_type": "code",
   "execution_count": 4,
   "id": "502fe30d-1b3c-46cd-a1d8-9a1dba0d82a4",
   "metadata": {},
   "outputs": [],
   "source": [
    "def weight_erc(r,rf):\n",
    "    \"\"\"\n",
    "    Returns the weights of the portfolio that equalizes the contributions\n",
    "    of the constituents based on the given covariance matrix\n",
    "    \"\"\"\n",
    "    cov=r.cov()\n",
    "    n = cov.shape[0]\n",
    "    return target_risk_contributions(target_risk=np.repeat(1/n,n), cov=covff30)\n",
    "\n",
    "def get_rf():\n",
    "    \"\"\"\n",
    "    import the time series of the risk-free rate\n",
    "    \"\"\"\n",
    "    rf = pd.read_excel(\"data/rf.xlsx\", header=0, index_col=0)\n",
    "    rf.index = pd.to_datetime(rf.index, format=\"%Y%m\").to_period('M')\n",
    "    rf.columns = rf.columns.str.strip()\n",
    "    return rf\n",
    "\n",
    "def backtest_ws(r, rf,estimation_window=60, weighting= weight_ew):\n",
    "    \"\"\"\n",
    "    Backtests a given weighting scheme, given some parameters:\n",
    "    r : asset returns to use to build the portfolio\n",
    "    estimation_window: the window to use to estimate parameters\n",
    "    weighting: the weighting scheme to use, must be a function that takes \"r\", and a variable number of keyword-value arguments\n",
    "    \"\"\"\n",
    "    n_periods = r.shape[0]\n",
    "    windows = [(start, start+estimation_window) for start in range(n_periods-estimation_window+1)]\n",
    "    # windows is a list of tuples which gives us the (integer) location of the start and stop (non inclusive)\n",
    "    # for each estimation window\n",
    "    weights = [weighting(r.iloc[win[0]:win[1]], rf.iloc[win[0]:win[1]]) for win in windows]\n",
    "    # List -> DataFrame\n",
    "    weights = pd.DataFrame(weights, index=r.iloc[estimation_window-1:].index, columns=r.columns)\n",
    "    # return weights\n",
    "    returns = (weights * r).sum(axis=\"columns\",  min_count=1) #mincount is to generate NAs if all inputs are NAs\n",
    "    return returns"
   ]
  },
  {
   "cell_type": "markdown",
   "id": "19356805-afa4-4bf9-9f0a-857ea505e574",
   "metadata": {},
   "source": [
    "### 10."
   ]
  },
  {
   "cell_type": "code",
   "execution_count": 2,
   "id": "723d53f3-1dc2-44a5-9e11-2d5ab3f6102b",
   "metadata": {},
   "outputs": [],
   "source": [
    "def portfolio_return(weights, returns):\n",
    "    \"\"\"\n",
    "    Computes the return on a portfolio from constituent returns and weights\n",
    "    weights are a numpy array or Nx1 matrix and returns are a numpy array or Nx1 matrix\n",
    "    \"\"\"\n",
    "    return weights.T @ returns\n",
    "\n",
    "def weight_msr (r, rf):\n",
    "    \"\"\"\n",
    "    Returns the weights of the portfolio based on the asset returns \"r\" as a DataFrame and the risk free rate \"rf\"\n",
    "    \"\"\"\n",
    "    n = len(r.columns)\n",
    "    er=r.mean()\n",
    "    cov=r.cov()\n",
    "    rff= rf.rf.values.mean()\n",
    "    return pd.Series(msr(rff, er, cov), index=r.columns)\n",
    "\n",
    "def weight_gmv(r, rf):\n",
    "    \"\"\"\n",
    "    Returns the weights of the portfolio based on the asset returns \"r\" as a DataFrame and the risk free rate \"rf\"\n",
    "    \"\"\"\n",
    "    n = len(r.columns)\n",
    "    cov=r.cov()\n",
    "    return pd.Series(gmv(cov,rf), index=r.columns)\n",
    "    \n",
    "def gmv(r,rf):\n",
    "    \"\"\"\n",
    "    Returns the weights of the Global Minimum Volatility portfolio\n",
    "    given a covariance matrix\n",
    "    \"\"\"\n",
    "    n = cov.shape[0]\n",
    "    return msr(0, np.repeat(1, n), cov)\n",
    "\n",
    "def weight_erc(r,rf):\n",
    "    \"\"\"\n",
    "    Returns the weights of the portfolio that equalizes the contributions\n",
    "    of the constituents based on the given covariance matrix\n",
    "    \"\"\"\n",
    "    cov=r.cov()\n",
    "    n = cov.shape[0]\n",
    "    return target_risk_contributions(target_risk=np.repeat(1/n,n), cov=cov)\n",
    "\n",
    "def msr(riskfree_rate, er, cov):\n",
    "    \"\"\"\n",
    "    Returns the weights of the portfolio that gives you the maximum sharpe ratio\n",
    "    given the riskfree rate and expected returns and a covariance matrix\n",
    "    \"\"\"\n",
    "    n = er.shape[0]\n",
    "    init_guess = np.repeat(1/n, n)\n",
    "    bounds = ((0.0, 1.0),) * n # an N-tuple of 2-tuples!\n",
    "    # construct the constraints\n",
    "    weights_sum_to_1 = {'type': 'eq',\n",
    "                        'fun': lambda weights: np.sum(weights) - 1\n",
    "    }\n",
    "    def neg_sharpe(weights, riskfree_rate, er, cov):\n",
    "        \"\"\"\n",
    "        Returns the negative of the sharpe ratio\n",
    "        of the given portfolio\n",
    "        \"\"\"\n",
    "        r = portfolio_return(weights, er)\n",
    "        vol = portfolio_vol(weights, cov)\n",
    "        return -(r - riskfree_rate)/vol\n",
    "    \n",
    "    weights = minimize(neg_sharpe, init_guess,\n",
    "                       args=(riskfree_rate, er, cov), method='SLSQP',\n",
    "                       options={'disp': False},\n",
    "                       constraints=(weights_sum_to_1,),\n",
    "                       bounds=bounds)\n",
    "    return weights.x"
   ]
  },
  {
   "cell_type": "code",
   "execution_count": null,
   "id": "e6406428-c92d-47b4-8bd8-97b1a0bec9b8",
   "metadata": {},
   "outputs": [],
   "source": []
  }
 ],
 "metadata": {
  "kernelspec": {
   "display_name": "Python 3",
   "language": "python",
   "name": "python3"
  },
  "language_info": {
   "codemirror_mode": {
    "name": "ipython",
    "version": 3
   },
   "file_extension": ".py",
   "mimetype": "text/x-python",
   "name": "python",
   "nbconvert_exporter": "python",
   "pygments_lexer": "ipython3",
   "version": "3.8.8"
  }
 },
 "nbformat": 4,
 "nbformat_minor": 5
}
